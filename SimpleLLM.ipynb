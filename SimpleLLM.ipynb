{
 "cells": [
  {
   "cell_type": "markdown",
   "id": "11488ee7",
   "metadata": {},
   "source": [
    "### Build a Simple LLM Application with LCEL.\n",
    "\n",
    "This application will translate Text from English into another language.\n",
    "\n",
    "This is a relatively simple LLM application - it's just a single LLM call plus some prompting. "
   ]
  },
  {
   "cell_type": "markdown",
   "id": "1b869bfb",
   "metadata": {},
   "source": [
    "### Open AI API Key and \n",
    "### Open Source models--Llama3(Meta), Gemma2(Google), mistral--Groq"
   ]
  },
  {
   "cell_type": "code",
   "execution_count": 2,
   "id": "e9e21a69",
   "metadata": {},
   "outputs": [
    {
     "data": {
      "text/plain": [
       "True"
      ]
     },
     "execution_count": 2,
     "metadata": {},
     "output_type": "execute_result"
    }
   ],
   "source": [
    "\n",
    "import os\n",
    "from dotenv import load_dotenv\n",
    "load_dotenv()\n"
   ]
  },
  {
   "cell_type": "code",
   "execution_count": 3,
   "id": "a95e7abd",
   "metadata": {},
   "outputs": [
    {
     "data": {
      "text/plain": [
       "'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'"
      ]
     },
     "execution_count": 3,
     "metadata": {},
     "output_type": "execute_result"
    }
   ],
   "source": [
    "import openai\n",
    "openai.api_key= os.getenv(\"OPENAI_API_KEY\")\n",
    "\n",
    "groq_api_key= os.getenv(\"GROQ_API_KEY\")\n",
    "groq_api_key"
   ]
  },
  {
   "cell_type": "code",
   "execution_count": 5,
   "id": "84caac0f",
   "metadata": {},
   "outputs": [],
   "source": [
    "from langchain_groq import ChatGroq\n",
    "from langchain_openai import ChatOpenAI\n"
   ]
  },
  {
   "cell_type": "code",
   "execution_count": 7,
   "id": "73458492",
   "metadata": {},
   "outputs": [
    {
     "data": {
      "text/plain": [
       "ChatGroq(client=<groq.resources.chat.completions.Completions object at 0x000002AEA31F87D0>, async_client=<groq.resources.chat.completions.AsyncCompletions object at 0x000002AEA31F90D0>, model_name='gemma2-9b-it', model_kwargs={}, groq_api_key=SecretStr('**********'))"
      ]
     },
     "execution_count": 7,
     "metadata": {},
     "output_type": "execute_result"
    }
   ],
   "source": [
    "model = ChatGroq(model=\"gemma2-9b-it\", groq_api_key= groq_api_key)\n",
    "model"
   ]
  },
  {
   "cell_type": "code",
   "execution_count": null,
   "id": "2a6307de",
   "metadata": {},
   "outputs": [],
   "source": [
    "from langchain_core.messages import HumanMessage, SystemMessage\n",
    "\n",
    "messages= [\n",
    "        SystemMessage(content= \"Translate the following from English to French\"),\n",
    "        HumanMessage(content= \"Hello How are you?\")\n",
    "]"
   ]
  },
  {
   "cell_type": "code",
   "execution_count": null,
   "id": "a2161c55",
   "metadata": {},
   "outputs": [
    {
     "data": {
      "text/plain": [
       "AIMessage(content='Here are a few ways to say \"Hello, How are you?\" in French:\\n\\n* **Bonjour, comment allez-vous ?** (Formal)\\n* **Salut, comment vas-tu ?** (Informal, to one person)\\n* **Salut, comment allez-vous ?** (Informal, to multiple people) \\n\\n\\nLet me know if you need more translations! \\n', additional_kwargs={}, response_metadata={'token_usage': {'completion_tokens': 82, 'prompt_tokens': 21, 'total_tokens': 103, 'completion_time': 0.149090909, 'prompt_time': 0.0013263, 'queue_time': 0.250166765, 'total_time': 0.150417209}, 'model_name': 'gemma2-9b-it', 'system_fingerprint': 'fp_10c08bf97d', 'service_tier': 'on_demand', 'finish_reason': 'stop', 'logprobs': None}, id='run--6307a5c2-4f8e-4679-8867-8c4971eb14e0-0', usage_metadata={'input_tokens': 21, 'output_tokens': 82, 'total_tokens': 103})"
      ]
     },
     "execution_count": 10,
     "metadata": {},
     "output_type": "execute_result"
    }
   ],
   "source": [
    "result= model.invoke(messages)\n",
    "result"
   ]
  },
  {
   "cell_type": "code",
   "execution_count": 13,
   "id": "980a377a",
   "metadata": {},
   "outputs": [
    {
     "data": {
      "text/plain": [
       "'Here are a few ways to say \"Hello, How are you?\" in French:\\n\\n* **Bonjour, comment allez-vous ?** (Formal)\\n* **Salut, comment vas-tu ?** (Informal, to one person)\\n* **Salut, comment allez-vous ?** (Informal, to multiple people) \\n\\n\\nLet me know if you need more translations! \\n'"
      ]
     },
     "execution_count": 13,
     "metadata": {},
     "output_type": "execute_result"
    }
   ],
   "source": [
    "from langchain_core.output_parsers import StrOutputParser\n",
    "\n",
    "parser= StrOutputParser()\n",
    "parser.invoke(result)"
   ]
  },
  {
   "cell_type": "markdown",
   "id": "f23b8194",
   "metadata": {},
   "source": [
    "### Using LCEL(LangChain Expression Language)-->> Chain the Components"
   ]
  },
  {
   "cell_type": "code",
   "execution_count": null,
   "id": "20bfa80c",
   "metadata": {},
   "outputs": [
    {
     "data": {
      "text/plain": [
       "'Here\\'s how to say \"Hello, How are you?\" in French:\\n\\n**Formal:**\\n\\n* **Bonjour, comment allez-vous ?**  \\n\\n**Informal:**\\n\\n* **Salut, comment vas-tu ?** (for someone you know well)\\n\\n\\nLet me know if you\\'d like other ways to say this! \\n'"
      ]
     },
     "execution_count": 14,
     "metadata": {},
     "output_type": "execute_result"
    }
   ],
   "source": [
    "## This is LCEL\n",
    "\n",
    "chain= model|parser\n",
    "\n",
    "chain.invoke(messages)"
   ]
  },
  {
   "cell_type": "markdown",
   "id": "5b174c30",
   "metadata": {},
   "source": [
    "# Prompt Templates"
   ]
  },
  {
   "cell_type": "code",
   "execution_count": 15,
   "id": "40dd6d1d",
   "metadata": {},
   "outputs": [],
   "source": [
    "\n",
    "from langchain_core.prompts import ChatPromptTemplate\n",
    "\n",
    "generic_template= \"Translate the following into {language}:-\"\n",
    "\n",
    "prompt= ChatPromptTemplate.from_messages(\n",
    "        [\n",
    "            (\"system\", generic_template),\n",
    "            (\"user\",\"{text}\")\n",
    "        ]\n",
    ")"
   ]
  },
  {
   "cell_type": "code",
   "execution_count": 16,
   "id": "1e547093",
   "metadata": {},
   "outputs": [],
   "source": [
    "result= prompt.invoke({\"language\":\"French\", \"text\":\"Hello How are you?\"})"
   ]
  },
  {
   "cell_type": "code",
   "execution_count": 17,
   "id": "143519dd",
   "metadata": {},
   "outputs": [
    {
     "data": {
      "text/plain": [
       "[SystemMessage(content='Translate the following into French:-', additional_kwargs={}, response_metadata={}),\n",
       " HumanMessage(content='Hello How are you?', additional_kwargs={}, response_metadata={})]"
      ]
     },
     "execution_count": 17,
     "metadata": {},
     "output_type": "execute_result"
    }
   ],
   "source": [
    "result.to_messages()"
   ]
  },
  {
   "cell_type": "markdown",
   "id": "5ab5e54b",
   "metadata": {},
   "source": [
    "## Chaining together All Three Components with LCEL\n"
   ]
  },
  {
   "cell_type": "code",
   "execution_count": 18,
   "id": "5b63c471",
   "metadata": {},
   "outputs": [
    {
     "data": {
      "text/plain": [
       "'Here are a few ways to say \"Hello, how are you?\" in French:\\n\\n* **Bonjour, comment allez-vous ?** (Formal)\\n* **Salut, comment vas-tu ?** (Informal, to one person)\\n* **Salut, comment allez-vous ?** (Informal, to multiple people)\\n\\n\\nLet me know if you\\'d like more variations!\\n'"
      ]
     },
     "execution_count": 18,
     "metadata": {},
     "output_type": "execute_result"
    }
   ],
   "source": [
    "\n",
    "chain=prompt|model|parser\n",
    "\n",
    "chain.invoke({\"language\":\"French\", \"text\":\"Hello How are you?\"})"
   ]
  },
  {
   "cell_type": "code",
   "execution_count": null,
   "id": "bcac2711",
   "metadata": {},
   "outputs": [],
   "source": []
  }
 ],
 "metadata": {
  "kernelspec": {
   "display_name": "Python 3",
   "language": "python",
   "name": "python3"
  },
  "language_info": {
   "codemirror_mode": {
    "name": "ipython",
    "version": 3
   },
   "file_extension": ".py",
   "mimetype": "text/x-python",
   "name": "python",
   "nbconvert_exporter": "python",
   "pygments_lexer": "ipython3",
   "version": "3.12.7"
  }
 },
 "nbformat": 4,
 "nbformat_minor": 5
}
