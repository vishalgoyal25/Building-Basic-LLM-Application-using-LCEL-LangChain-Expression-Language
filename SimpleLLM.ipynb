{
 "cells": [
  {
   "cell_type": "markdown",
   "id": "11488ee7",
   "metadata": {},
   "source": [
    "### Build a Simple LLM Application with LCEL.\n",
    "\n",
    "This application will translate Text from English into another language.\n",
    "\n",
    "This is a relatively simple LLM application - it's just a single LLM call plus some prompting. "
   ]
  },
  {
   "cell_type": "markdown",
   "id": "1b869bfb",
   "metadata": {},
   "source": [
    "### Open AI API Key and \n",
    "### Open Source models--Llama3(Meta), Gemma2(Google), mistral--Groq"
   ]
  },
  {
   "cell_type": "code",
   "execution_count": 20,
   "id": "e9e21a69",
   "metadata": {},
   "outputs": [
    {
     "data": {
      "text/plain": [
       "True"
      ]
     },
     "execution_count": 20,
     "metadata": {},
     "output_type": "execute_result"
    }
   ],
   "source": [
    "\n",
    "import os\n",
    "from dotenv import load_dotenv\n",
    "load_dotenv()\n"
   ]
  },
  {
   "cell_type": "code",
   "execution_count": 21,
   "id": "a95e7abd",
   "metadata": {},
   "outputs": [],
   "source": [
    "import openai\n",
    "openai.api_key= os.getenv(\"OPENAI_API_KEY\")\n",
    "\n",
    "groq_api_key= os.getenv(\"GROQ_API_KEY\")"
   ]
  },
  {
   "cell_type": "code",
   "execution_count": 22,
   "id": "84caac0f",
   "metadata": {},
   "outputs": [],
   "source": [
    "from langchain_groq import ChatGroq\n",
    "from langchain_openai import ChatOpenAI\n"
   ]
  },
  {
   "cell_type": "code",
   "execution_count": 23,
   "id": "73458492",
   "metadata": {},
   "outputs": [
    {
     "data": {
      "text/plain": [
       "ChatGroq(client=<groq.resources.chat.completions.Completions object at 0x000002AEA3514800>, async_client=<groq.resources.chat.completions.AsyncCompletions object at 0x000002AEA44FED80>, model_name='gemma2-9b-it', model_kwargs={}, groq_api_key=SecretStr('**********'))"
      ]
     },
     "execution_count": 23,
     "metadata": {},
     "output_type": "execute_result"
    }
   ],
   "source": [
    "model = ChatGroq(model=\"gemma2-9b-it\", groq_api_key= groq_api_key)\n",
    "model"
   ]
  },
  {
   "cell_type": "code",
   "execution_count": 24,
   "id": "2a6307de",
   "metadata": {},
   "outputs": [],
   "source": [
    "from langchain_core.messages import HumanMessage, SystemMessage\n",
    "\n",
    "messages= [\n",
    "        SystemMessage(content= \"Translate the following from English to French\"),\n",
    "        HumanMessage(content= \"Hello How are you?\")\n",
    "]"
   ]
  },
  {
   "cell_type": "code",
   "execution_count": 25,
   "id": "a2161c55",
   "metadata": {},
   "outputs": [
    {
     "data": {
      "text/plain": [
       "AIMessage(content='Here are a few ways to translate \"Hello, how are you?\" to French:\\n\\n**Formal:**\\n\\n* **Bonjour, comment allez-vous ?** (This is the most formal option, used with people you don\\'t know well or in professional settings.)\\n\\n**Informal:**\\n\\n* **Salut, comment vas-tu ?** (Used with friends and family.)\\n* **Coucou, ça va ?** (A very casual way to say hello, similar to \"Hey, how\\'s it going?\")\\n\\n\\nLet me know if you\\'d like more translations or have other phrases you want to learn!\\n', additional_kwargs={}, response_metadata={'token_usage': {'completion_tokens': 128, 'prompt_tokens': 21, 'total_tokens': 149, 'completion_time': 0.232727273, 'prompt_time': 0.00132518, 'queue_time': 0.25475564, 'total_time': 0.234052453}, 'model_name': 'gemma2-9b-it', 'system_fingerprint': 'fp_10c08bf97d', 'service_tier': 'on_demand', 'finish_reason': 'stop', 'logprobs': None}, id='run--7821c887-0319-4c7c-bbb5-2c84e8f4dbea-0', usage_metadata={'input_tokens': 21, 'output_tokens': 128, 'total_tokens': 149})"
      ]
     },
     "execution_count": 25,
     "metadata": {},
     "output_type": "execute_result"
    }
   ],
   "source": [
    "result= model.invoke(messages)\n",
    "result"
   ]
  },
  {
   "cell_type": "code",
   "execution_count": 26,
   "id": "980a377a",
   "metadata": {},
   "outputs": [
    {
     "data": {
      "text/plain": [
       "'Here are a few ways to translate \"Hello, how are you?\" to French:\\n\\n**Formal:**\\n\\n* **Bonjour, comment allez-vous ?** (This is the most formal option, used with people you don\\'t know well or in professional settings.)\\n\\n**Informal:**\\n\\n* **Salut, comment vas-tu ?** (Used with friends and family.)\\n* **Coucou, ça va ?** (A very casual way to say hello, similar to \"Hey, how\\'s it going?\")\\n\\n\\nLet me know if you\\'d like more translations or have other phrases you want to learn!\\n'"
      ]
     },
     "execution_count": 26,
     "metadata": {},
     "output_type": "execute_result"
    }
   ],
   "source": [
    "from langchain_core.output_parsers import StrOutputParser\n",
    "\n",
    "parser= StrOutputParser()\n",
    "parser.invoke(result)"
   ]
  },
  {
   "cell_type": "markdown",
   "id": "f23b8194",
   "metadata": {},
   "source": [
    "### Using LCEL(LangChain Expression Language)-->> Chain the Components"
   ]
  },
  {
   "cell_type": "code",
   "execution_count": 27,
   "id": "20bfa80c",
   "metadata": {},
   "outputs": [
    {
     "data": {
      "text/plain": [
       "'Here are a couple of ways to translate \"Hello, how are you?\" to French:\\n\\n**Formal:**\\n\\n* **Bonjour, comment allez-vous ?** (This is the most polite and formal way to greet someone.)\\n\\n**Informal:**\\n\\n* **Salut, comment ça va ?** (This is a more casual way to greet someone you know well.)\\n\\n\\n\\nLet me know if you\\'d like to see more variations!\\n'"
      ]
     },
     "execution_count": 27,
     "metadata": {},
     "output_type": "execute_result"
    }
   ],
   "source": [
    "## This is LCEL\n",
    "\n",
    "chain= model|parser\n",
    "\n",
    "chain.invoke(messages)"
   ]
  },
  {
   "cell_type": "markdown",
   "id": "5b174c30",
   "metadata": {},
   "source": [
    "# Prompt Templates"
   ]
  },
  {
   "cell_type": "code",
   "execution_count": 28,
   "id": "40dd6d1d",
   "metadata": {},
   "outputs": [],
   "source": [
    "\n",
    "from langchain_core.prompts import ChatPromptTemplate\n",
    "\n",
    "generic_template= \"Translate the following into {language}:-\"\n",
    "\n",
    "prompt= ChatPromptTemplate.from_messages(\n",
    "        [\n",
    "            (\"system\", generic_template),\n",
    "            (\"user\",\"{text}\")\n",
    "        ]\n",
    ")"
   ]
  },
  {
   "cell_type": "code",
   "execution_count": 29,
   "id": "1e547093",
   "metadata": {},
   "outputs": [],
   "source": [
    "result= prompt.invoke({\"language\":\"French\", \"text\":\"Hello How are you?\"})"
   ]
  },
  {
   "cell_type": "code",
   "execution_count": 30,
   "id": "143519dd",
   "metadata": {},
   "outputs": [
    {
     "data": {
      "text/plain": [
       "[SystemMessage(content='Translate the following into French:-', additional_kwargs={}, response_metadata={}),\n",
       " HumanMessage(content='Hello How are you?', additional_kwargs={}, response_metadata={})]"
      ]
     },
     "execution_count": 30,
     "metadata": {},
     "output_type": "execute_result"
    }
   ],
   "source": [
    "result.to_messages()"
   ]
  },
  {
   "cell_type": "markdown",
   "id": "5ab5e54b",
   "metadata": {},
   "source": [
    "## Chaining together All Three Components with LCEL\n"
   ]
  },
  {
   "cell_type": "code",
   "execution_count": 31,
   "id": "5b63c471",
   "metadata": {},
   "outputs": [
    {
     "data": {
      "text/plain": [
       "'Here are a few ways to say \"Hello, how are you?\" in French:\\n\\n* **Bonjour, comment allez-vous ?** (Formal)\\n* **Salut, ça va ?** (Informal)\\n* **Coucou, comment vas-tu ?** (Very informal, used with close friends)\\n\\n\\nThe best option depends on the context and your relationship with the person you\\'re speaking to.\\n'"
      ]
     },
     "execution_count": 31,
     "metadata": {},
     "output_type": "execute_result"
    }
   ],
   "source": [
    "\n",
    "chain=prompt|model|parser\n",
    "\n",
    "chain.invoke({\"language\":\"French\", \"text\":\"Hello How are you?\"})"
   ]
  },
  {
   "cell_type": "code",
   "execution_count": null,
   "id": "bcac2711",
   "metadata": {},
   "outputs": [],
   "source": []
  }
 ],
 "metadata": {
  "kernelspec": {
   "display_name": "Python 3",
   "language": "python",
   "name": "python3"
  },
  "language_info": {
   "codemirror_mode": {
    "name": "ipython",
    "version": 3
   },
   "file_extension": ".py",
   "mimetype": "text/x-python",
   "name": "python",
   "nbconvert_exporter": "python",
   "pygments_lexer": "ipython3",
   "version": "3.12.7"
  }
 },
 "nbformat": 4,
 "nbformat_minor": 5
}
