{
 "cells": [
  {
   "cell_type": "markdown",
   "id": "11488ee7",
   "metadata": {},
   "source": [
    "### Build a Simple LLM Application with LCEL.\n",
    "\n",
    "This application will translate Text from English into another language.\n",
    "\n",
    "This is a relatively simple LLM application - it's just a single LLM call plus some prompting. "
   ]
  },
  {
   "cell_type": "markdown",
   "id": "1b869bfb",
   "metadata": {},
   "source": [
    "### Open AI API Key and \n",
    "### Open Source models--Llama3(Meta), Gemma2(Google), mistral--Groq"
   ]
  },
  {
   "cell_type": "code",
   "execution_count": 32,
   "id": "e9e21a69",
   "metadata": {},
   "outputs": [
    {
     "data": {
      "text/plain": [
       "True"
      ]
     },
     "execution_count": 32,
     "metadata": {},
     "output_type": "execute_result"
    }
   ],
   "source": [
    "\n",
    "import os\n",
    "from dotenv import load_dotenv\n",
    "load_dotenv()\n"
   ]
  },
  {
   "cell_type": "code",
   "execution_count": 33,
   "id": "a95e7abd",
   "metadata": {},
   "outputs": [],
   "source": [
    "import openai\n",
    "openai.api_key= os.getenv(\"OPENAI_API_KEY\")\n",
    "\n",
    "groq_api_key= os.getenv(\"GROQ_API_KEY\")"
   ]
  },
  {
   "cell_type": "code",
   "execution_count": 34,
   "id": "84caac0f",
   "metadata": {},
   "outputs": [],
   "source": [
    "from langchain_groq import ChatGroq\n",
    "from langchain_openai import ChatOpenAI\n"
   ]
  },
  {
   "cell_type": "code",
   "execution_count": 35,
   "id": "73458492",
   "metadata": {},
   "outputs": [
    {
     "data": {
      "text/plain": [
       "ChatGroq(client=<groq.resources.chat.completions.Completions object at 0x000002AEA35131A0>, async_client=<groq.resources.chat.completions.AsyncCompletions object at 0x000002AEA3512840>, model_name='gemma2-9b-it', model_kwargs={}, groq_api_key=SecretStr('**********'))"
      ]
     },
     "execution_count": 35,
     "metadata": {},
     "output_type": "execute_result"
    }
   ],
   "source": [
    "model = ChatGroq(model=\"gemma2-9b-it\", groq_api_key= groq_api_key)\n",
    "model"
   ]
  },
  {
   "cell_type": "code",
   "execution_count": 36,
   "id": "2a6307de",
   "metadata": {},
   "outputs": [],
   "source": [
    "from langchain_core.messages import HumanMessage, SystemMessage\n",
    "\n",
    "messages= [\n",
    "        SystemMessage(content= \"Translate the following from English to French\"),\n",
    "        HumanMessage(content= \"Hello How are you?\")\n",
    "]"
   ]
  },
  {
   "cell_type": "code",
   "execution_count": 37,
   "id": "a2161c55",
   "metadata": {},
   "outputs": [
    {
     "data": {
      "text/plain": [
       "AIMessage(content='Bonjour ! Comment allez-vous ? \\n\\n', additional_kwargs={}, response_metadata={'token_usage': {'completion_tokens': 12, 'prompt_tokens': 21, 'total_tokens': 33, 'completion_time': 0.021818182, 'prompt_time': 0.001321269, 'queue_time': 0.24788446200000003, 'total_time': 0.023139451}, 'model_name': 'gemma2-9b-it', 'system_fingerprint': 'fp_10c08bf97d', 'service_tier': 'on_demand', 'finish_reason': 'stop', 'logprobs': None}, id='run--b918c015-a3b4-4a57-a838-cf7ef0f186cf-0', usage_metadata={'input_tokens': 21, 'output_tokens': 12, 'total_tokens': 33})"
      ]
     },
     "execution_count": 37,
     "metadata": {},
     "output_type": "execute_result"
    }
   ],
   "source": [
    "result= model.invoke(messages)\n",
    "result"
   ]
  },
  {
   "cell_type": "code",
   "execution_count": 38,
   "id": "980a377a",
   "metadata": {},
   "outputs": [
    {
     "data": {
      "text/plain": [
       "'Bonjour ! Comment allez-vous ? \\n\\n'"
      ]
     },
     "execution_count": 38,
     "metadata": {},
     "output_type": "execute_result"
    }
   ],
   "source": [
    "from langchain_core.output_parsers import StrOutputParser\n",
    "\n",
    "parser= StrOutputParser()\n",
    "parser.invoke(result)"
   ]
  },
  {
   "cell_type": "markdown",
   "id": "f23b8194",
   "metadata": {},
   "source": [
    "### Using LCEL(LangChain Expression Language)-->> Chain the Components"
   ]
  },
  {
   "cell_type": "code",
   "execution_count": 39,
   "id": "20bfa80c",
   "metadata": {},
   "outputs": [
    {
     "data": {
      "text/plain": [
       "'Here are a few ways to say \"Hello, how are you?\" in French:\\n\\n* **Bonjour, comment allez-vous ?** (Formal)\\n* **Salut, ça va ?** (Informal)\\n* **Coucou, comment vas-tu ?** (Very informal, used with friends and family)\\n\\n\\nLet me know if you\\'d like more options or have other phrases you want to translate!\\n'"
      ]
     },
     "execution_count": 39,
     "metadata": {},
     "output_type": "execute_result"
    }
   ],
   "source": [
    "## This is LCEL\n",
    "\n",
    "chain= model|parser\n",
    "\n",
    "chain.invoke(messages)"
   ]
  },
  {
   "cell_type": "markdown",
   "id": "5b174c30",
   "metadata": {},
   "source": [
    "# Prompt Templates"
   ]
  },
  {
   "cell_type": "code",
   "execution_count": 40,
   "id": "40dd6d1d",
   "metadata": {},
   "outputs": [],
   "source": [
    "\n",
    "from langchain_core.prompts import ChatPromptTemplate\n",
    "\n",
    "generic_template= \"Translate the following into {language}:-\"\n",
    "\n",
    "prompt= ChatPromptTemplate.from_messages(\n",
    "        [\n",
    "            (\"system\", generic_template),\n",
    "            (\"user\",\"{text}\")\n",
    "        ]\n",
    ")"
   ]
  },
  {
   "cell_type": "code",
   "execution_count": 41,
   "id": "1e547093",
   "metadata": {},
   "outputs": [],
   "source": [
    "result= prompt.invoke({\"language\":\"French\", \"text\":\"Hello How are you?\"})"
   ]
  },
  {
   "cell_type": "code",
   "execution_count": 42,
   "id": "143519dd",
   "metadata": {},
   "outputs": [
    {
     "data": {
      "text/plain": [
       "[SystemMessage(content='Translate the following into French:-', additional_kwargs={}, response_metadata={}),\n",
       " HumanMessage(content='Hello How are you?', additional_kwargs={}, response_metadata={})]"
      ]
     },
     "execution_count": 42,
     "metadata": {},
     "output_type": "execute_result"
    }
   ],
   "source": [
    "result.to_messages()"
   ]
  },
  {
   "cell_type": "markdown",
   "id": "5ab5e54b",
   "metadata": {},
   "source": [
    "## Chaining together All Three Components with LCEL\n"
   ]
  },
  {
   "cell_type": "code",
   "execution_count": 43,
   "id": "5b63c471",
   "metadata": {},
   "outputs": [
    {
     "data": {
      "text/plain": [
       "'Here are a few ways to say \"Hello, how are you?\" in French:\\n\\n* **Bonjour, comment allez-vous ?** (Formal)\\n* **Salut, ça va ?** (Informal)\\n* **Coucou, comment vas-tu ?** (Very informal, used with friends or family)\\n\\n\\nLet me know if you\\'d like to know the translation for other greetings!\\n'"
      ]
     },
     "execution_count": 43,
     "metadata": {},
     "output_type": "execute_result"
    }
   ],
   "source": [
    "\n",
    "chain=prompt|model|parser\n",
    "\n",
    "chain.invoke({\"language\":\"French\", \"text\":\"Hello How are you?\"})"
   ]
  },
  {
   "cell_type": "code",
   "execution_count": null,
   "id": "bcac2711",
   "metadata": {},
   "outputs": [],
   "source": []
  }
 ],
 "metadata": {
  "kernelspec": {
   "display_name": "Python 3",
   "language": "python",
   "name": "python3"
  },
  "language_info": {
   "codemirror_mode": {
    "name": "ipython",
    "version": 3
   },
   "file_extension": ".py",
   "mimetype": "text/x-python",
   "name": "python",
   "nbconvert_exporter": "python",
   "pygments_lexer": "ipython3",
   "version": "3.12.7"
  }
 },
 "nbformat": 4,
 "nbformat_minor": 5
}
